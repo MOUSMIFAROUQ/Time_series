{
 "cells": [
  {
   "cell_type": "code",
   "execution_count": 1,
   "metadata": {},
   "outputs": [
    {
     "name": "stdout",
     "output_type": "stream",
     "text": [
      "## Titre du Cahier\n"
     ]
    }
   ],
   "source": [
    "# Exercice 2 - Créez une cellule de démarque avec le titre du cahier. (1 pt)\n",
    "print(\"## Titre du Cahier\")\n"
   ]
  },
  {
   "cell_type": "code",
   "execution_count": 2,
   "metadata": {},
   "outputs": [
    {
     "name": "stdout",
     "output_type": "stream",
     "text": [
      "## Introduction\n",
      "Bienvenue dans ce cahier de science des données ! Nous allons explorer divers concepts et outils.\n"
     ]
    }
   ],
   "source": [
    "# Exercice 3 - Créez une cellule de démarque pour une introduction. (1 pt)\n",
    "print(\"## Introduction\\nBienvenue dans ce cahier de science des données ! Nous allons explorer divers concepts et outils.\")\n"
   ]
  },
  {
   "cell_type": "code",
   "execution_count": 3,
   "metadata": {},
   "outputs": [
    {
     "name": "stdout",
     "output_type": "stream",
     "text": [
      "## Langages de Science des Données\n",
      "- Python\n",
      "- R\n",
      "- Julia\n"
     ]
    }
   ],
   "source": [
    "\n",
    "# Exercice 4 : Créez une cellule de démarque pour répertorier les langages de science des données. (3 points)\n",
    "print(\"## Langages de Science des Données\")\n",
    "print(\"- Python\")\n",
    "print(\"- R\")\n",
    "print(\"- Julia\")"
   ]
  },
  {
   "cell_type": "code",
   "execution_count": 4,
   "metadata": {},
   "outputs": [
    {
     "name": "stdout",
     "output_type": "stream",
     "text": [
      "## Bibliothèques de Science des Données\n",
      "- Pandas\n",
      "- NumPy\n",
      "- Matplotlib\n"
     ]
    }
   ],
   "source": [
    "# Exercice 5 : Créez une cellule de démarque pour répertorier les bibliothèques de science des données. (3 points)\n",
    "print(\"## Bibliothèques de Science des Données\")\n",
    "print(\"- Pandas\")\n",
    "print(\"- NumPy\")\n",
    "print(\"- Matplotlib\")"
   ]
  },
  {
   "cell_type": "code",
   "execution_count": 5,
   "metadata": {},
   "outputs": [
    {
     "name": "stdout",
     "output_type": "stream",
     "text": [
      "## Tableau d'Outils Data Science\n",
      "| Outil | Description |\n",
      "|-------|-------------|\n",
      "| Jupyter | Environnement de calcul interactif |\n",
      "| TensorFlow | Bibliothèque d'apprentissage automatique |\n",
      "| Scikit-learn | Bibliothèque d'apprentissage automatique |\n"
     ]
    }
   ],
   "source": [
    "# Exercice 6 - Créez une cellule de démarque avec un tableau d'outils Data Science. (3 points)\n",
    "print(\"## Tableau d'Outils Data Science\")\n",
    "print(\"| Outil | Description |\")\n",
    "print(\"|-------|-------------|\")\n",
    "print(\"| Jupyter | Environnement de calcul interactif |\")\n",
    "print(\"| TensorFlow | Bibliothèque d'apprentissage automatique |\")\n",
    "print(\"| Scikit-learn | Bibliothèque d'apprentissage automatique |\")"
   ]
  },
  {
   "cell_type": "code",
   "execution_count": 6,
   "metadata": {},
   "outputs": [
    {
     "name": "stdout",
     "output_type": "stream",
     "text": [
      "## Exemples d'Expressions Arithmétiques\n",
      "Nous allons maintenant voir quelques exemples d'expressions arithmétiques.\n"
     ]
    }
   ],
   "source": [
    "# Exercice 7 - Créez une cellule de démarque introduisant des exemples d'expressions arithmétiques. (1 pt)\n",
    "print(\"## Exemples d'Expressions Arithmétiques\\nNous allons maintenant voir quelques exemples d'expressions arithmétiques.\")"
   ]
  },
  {
   "cell_type": "code",
   "execution_count": 7,
   "metadata": {},
   "outputs": [
    {
     "name": "stdout",
     "output_type": "stream",
     "text": [
      "Résultat de la multiplication : 15\n",
      "Résultat de l'addition : 8\n"
     ]
    }
   ],
   "source": [
    "# Exercice 8 - Créez une cellule de code pour multiplier et additionner des nombres. (2 points)\n",
    "a = 5\n",
    "b = 3\n",
    "print(\"Résultat de la multiplication :\", a * b)\n",
    "print(\"Résultat de l'addition :\", a + b)"
   ]
  },
  {
   "cell_type": "code",
   "execution_count": 8,
   "metadata": {},
   "outputs": [
    {
     "name": "stdout",
     "output_type": "stream",
     "text": [
      "150 minutes équivalent à 2.5 heures.\n"
     ]
    }
   ],
   "source": [
    "# Exercice 9 - Créez une cellule de code pour convertir les minutes en heures. (2 points)\n",
    "minutes = 150\n",
    "heures = minutes / 60\n",
    "print(\"150 minutes équivalent à\", heures, \"heures.\")"
   ]
  },
  {
   "cell_type": "code",
   "execution_count": 9,
   "metadata": {},
   "outputs": [
    {
     "name": "stdout",
     "output_type": "stream",
     "text": [
      "## Objectifs\n",
      "- Explorer les concepts de science des données.\n",
      "- Pratiquer l'utilisation de Jupyter Notebook.\n",
      "- Apprendre à manipuler des données avec Python.\n"
     ]
    }
   ],
   "source": [
    "# Exercice 10 - Insérez une cellule de démarque pour lister les objectifs. (3 points)\n",
    "print(\"## Objectifs\")\n",
    "print(\"- Explorer les concepts de science des données.\")\n",
    "print(\"- Pratiquer l'utilisation de Jupyter Notebook.\")\n",
    "print(\"- Apprendre à manipuler des données avec Python.\")"
   ]
  },
  {
   "cell_type": "code",
   "execution_count": 10,
   "metadata": {},
   "outputs": [
    {
     "name": "stdout",
     "output_type": "stream",
     "text": [
      "## Auteur\n",
      "Farouq\n"
     ]
    }
   ],
   "source": [
    "# Exercice 11 - Créez une cellule de démarque pour indiquer le nom de l'auteur. (2 points)\n",
    "print(\"## Auteur\\nFarouq\")"
   ]
  },
  {
   "cell_type": "code",
   "execution_count": null,
   "metadata": {},
   "outputs": [],
   "source": []
  }
 ],
 "metadata": {
  "kernelspec": {
   "display_name": "base",
   "language": "python",
   "name": "python3"
  },
  "language_info": {
   "codemirror_mode": {
    "name": "ipython",
    "version": 3
   },
   "file_extension": ".py",
   "mimetype": "text/x-python",
   "name": "python",
   "nbconvert_exporter": "python",
   "pygments_lexer": "ipython3",
   "version": "3.10.12"
  }
 },
 "nbformat": 4,
 "nbformat_minor": 2
}
